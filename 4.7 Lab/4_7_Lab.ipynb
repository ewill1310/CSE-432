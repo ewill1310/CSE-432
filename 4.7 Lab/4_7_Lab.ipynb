{
  "nbformat": 4,
  "nbformat_minor": 0,
  "metadata": {
    "colab": {
      "provenance": []
    },
    "kernelspec": {
      "name": "python3",
      "display_name": "Python 3"
    },
    "language_info": {
      "name": "python"
    }
  },
  "cells": [
    {
      "cell_type": "markdown",
      "source": [
        "**4.7 LAB**: Cleaning data using dropna() and fillna()\n",
        "The hmeq_small dataset contains information on 5960 home equity loans, including 7 features on the characteristics of the loan.\n",
        "\n",
        "Load the data set hmeq_small.csv as a data frame.\n",
        "Create a new data frame with all the rows with missing data deleted.\n",
        "Create a second data frame with all missing data filled in with the mean value of the column.\n",
        "Find the means of the columns for both new data frames.\n",
        "Ex: Using only the first hundred rows, found in hmeq_sample.csv, the output is:\n",
        "\n",
        "Means for hmeqDelete are  \n",
        "LOAN        3208.333333\n",
        "\n",
        "MORTDUE    67495.958333\n",
        "\n",
        "VALUE      82529.125000\n",
        "\n",
        "YOJ            8.500000\n",
        "\n",
        "CLAGE        144.749455\n",
        "\n",
        "CLNO          16.583333\n",
        "\n",
        "DEBTINC       33.052122\n",
        "\n",
        "dtype: float64\n",
        "\n",
        "Means for hmeqReplace are  \n",
        "LOAN        3045.918367\n",
        "\n",
        "MORTDUE    49386.494253\n",
        "\n",
        "VALUE      64033.483871\n",
        "\n",
        "YOJ            8.179775\n",
        "\n",
        "CLAGE        140.209320\n",
        "\n",
        "CLNO          15.586957\n",
        "\n",
        "DEBTINC       30.947152\n",
        "\n",
        "dtype: float64\n",
        "\n",
        "Will not run externally, no access to required .csv"
      ],
      "metadata": {
        "id": "ct5Ke6uLGpwe"
      }
    },
    {
      "cell_type": "code",
      "execution_count": null,
      "metadata": {
        "id": "smzEEqIbGkAP"
      },
      "outputs": [],
      "source": [
        "import pandas as pd\n",
        "\n",
        "# Read in hmeq_small.csv\n",
        "hmeq = pd.read_csv('hmeq_small.csv')\n",
        "\n",
        "# Create a new data frame with the rows with missing values dropped\n",
        "hmeqDelete = hmeq.dropna()\n",
        "\n",
        "# Create a new data frame with the missing values filled in by the mean of the column\n",
        "hmeqReplace = hmeq.fillna(hmeq.mean())\n",
        "\n",
        "# Print the means of the columns for each new data frame\n",
        "print(\"Means for hmeqDelete are \", hmeqDelete.mean())\n",
        "\n",
        "print(\"Means for hmeqReplace are \", hmeqReplace.mean())"
      ]
    }
  ]
}