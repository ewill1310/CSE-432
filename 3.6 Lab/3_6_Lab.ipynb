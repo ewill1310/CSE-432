{
  "nbformat": 4,
  "nbformat_minor": 0,
  "metadata": {
    "colab": {
      "provenance": []
    },
    "kernelspec": {
      "name": "python3",
      "display_name": "Python 3"
    },
    "language_info": {
      "name": "python"
    }
  },
  "cells": [
    {
      "cell_type": "markdown",
      "source": [
        "**3.6.1:** LAB: Model workflow in scikit-learn\n",
        "\n",
        "The dataset fg_attempts.csv contains data on field goal distance and outcome (whether or not the kick was successful) during the 2012 NFL seasons.\n",
        "\n",
        "Create a dataframe X with input features Distance and ScoreDiffPreKick.\n",
        "Create a dataframe y with output feature Outcome.\n",
        "Flatten y into an array called yArray using np.ravel().\n",
        "Initialize a logistic regression model using LogisticRegression().\n",
        "Fit the model to the input and flattened output features in X and yArray.\n",
        "Create a new dataframe XNew with user-input values for Distance and ScoreDiffPreKick.\n",
        "Use the fitted logistic regression model to predict the outcome from the new data.\n",
        "Determine the accuracy of a fitted logistic regression classification model.\n",
        "Ex: If the new dataframe contains Distance = 25 and ScoreDiffPreKick = 8, the program input is:\n",
        "\n",
        "25\n",
        "8\n",
        "and the program output is:\n",
        "\n",
        "[1]\n",
        "0.8604651162790697\n",
        "\n",
        "***Will not run externally, no access to fg_attempt.csv***"
      ],
      "metadata": {
        "id": "s8YYi_BZFuFQ"
      }
    },
    {
      "cell_type": "code",
      "execution_count": null,
      "metadata": {
        "id": "bdq_qvxhFqEr"
      },
      "outputs": [],
      "source": [
        "# Import the necessary modules\n",
        "import numpy as np\n",
        "import pandas as pd\n",
        "from sklearn.linear_model import LogisticRegression\n",
        "\n",
        "# Read in the file fg_attempt.csv\n",
        "field_goal = pd.read_csv('fg_attempt.csv')\n",
        "\n",
        "# Create a dataframe X containing 'Distance' and 'ScoreDiffPreKick'\n",
        "X = field_goal[['Distance', 'ScoreDiffPreKick']]\n",
        "# Create a dataframe y containing 'Outcome'\n",
        "y = field_goal['Outcome']\n",
        "\n",
        "# Flatten y into an array\n",
        "yArray = np.ravel(y)\n",
        "\n",
        "# Initialize a LogisticRegression() model\n",
        "logisticModel = LogisticRegression()\n",
        "\n",
        "# Fit the model\n",
        "logisticModel.fit(X, yArray)\n",
        "\n",
        "# Input feature values for a sample instance\n",
        "Distance = float(input())\n",
        "ScoreDiffPreKick = float(input())\n",
        "\n",
        "# Create a new dataframe with user-input Distance and ScoreDiffPreKick\n",
        "XNew = pd.DataFrame({'Distance': [Distance], 'ScoreDiffPreKick': [ScoreDiffPreKick]})\n",
        "\n",
        "# Predict the outcome from the new data\n",
        "pred = logisticModel.predict(XNew)\n",
        "print(pred)\n",
        "\n",
        "# Determine the accuracy of the model logisticModel\n",
        "score = logisticModel.score(X, yArray)\n",
        "print(score)"
      ]
    }
  ]
}