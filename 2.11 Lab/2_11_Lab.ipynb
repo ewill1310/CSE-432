{
  "nbformat": 4,
  "nbformat_minor": 0,
  "metadata": {
    "colab": {
      "provenance": []
    },
    "kernelspec": {
      "name": "python3",
      "display_name": "Python 3"
    },
    "language_info": {
      "name": "python"
    }
  },
  "cells": [
    {
      "cell_type": "markdown",
      "source": [
        "**2.11 LAB**: Importing packages\n",
        "Import the necessary modules and read in a csv file. The homes dataset contains 18 features giving the characteristics of 76 homes being sold. The modules will be used with the homes.csv file to perform a linear regression. Linear regression will be covered in a different chapter.\n",
        "\n",
        "Import the NumPy and pandas packages with the aliases used in this material\n",
        "Import the function LinearRegression from the sklearn.linear_model package\n",
        "Read in the csv file homes.csv\n",
        "\n",
        "Ex: If the csv file homes_small.csv is used instead of homes.csv, the output is:\n",
        "\n",
        "The intercept of the regression is 249.522\n",
        "The slope of the regression is 36.758\n",
        "\n",
        "***This is an export of the lab so it doesnt have access to the homes.csv file***"
      ],
      "metadata": {
        "id": "QnSREExuE2jh"
      }
    },
    {
      "cell_type": "code",
      "execution_count": null,
      "metadata": {
        "id": "az-_nOteExh9"
      },
      "outputs": [],
      "source": [
        "import numpy as np\n",
        "import pandas as pd\n",
        "\n",
        "# Import the LinearRegression function from sklearn.linear_model\n",
        "from sklearn.linear_model import LinearRegression\n",
        "# Read in the csv file homes.csv\n",
        "homes = pd.read_csv('homes.csv')\n",
        "\n",
        "# Store relevant columns as variables\n",
        "y = homes['Price']\n",
        "y = np.reshape(y.values, (-1,1))\n",
        "X = homes['Floor']\n",
        "X = np.reshape(X.values, (-1,1))\n",
        "\n",
        "# Fit a least squares regression model\n",
        "linModel = LinearRegression()\n",
        "linModel.fit(X,y)\n",
        "\n",
        "# Print the intercept and slope of the regression\n",
        "print('The intercept of the regression is ', end=\"\")\n",
        "print('%.3f' % linModel.intercept_)\n",
        "\n",
        "print('The slope of the regression is ', end=\"\")\n",
        "print('%.3f' % linModel.coef_)"
      ]
    }
  ]
}