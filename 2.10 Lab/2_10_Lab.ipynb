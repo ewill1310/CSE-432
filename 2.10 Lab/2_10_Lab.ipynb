{
  "nbformat": 4,
  "nbformat_minor": 0,
  "metadata": {
    "colab": {
      "provenance": []
    },
    "kernelspec": {
      "name": "python3",
      "display_name": "Python 3"
    },
    "language_info": {
      "name": "python"
    }
  },
  "cells": [
    {
      "cell_type": "markdown",
      "source": [
        "**2.10 LAB**: Set basics\n",
        "Given the user inputs, complete a program that does the following tasks:\n",
        "\n",
        "Define a set, fruits, containing the user inputs myFruit1, myFruit2, and myFruit3.\n",
        "Add the user input theirFruit to fruits.\n",
        "Find the intersection of fruits and yourFruit1 and yourFruit2\n",
        "Remove myFruit1 from fruits.\n",
        "Note: For testing purposes, sets are printed using sorted() for comparison.\n",
        "\n",
        "Ex: If the input is:\n",
        "\n",
        "apple\n",
        "peach\n",
        "lemon\n",
        "apple\n",
        "pear\n",
        "plum\n",
        "\n",
        "the output is:\n",
        "\n",
        "['apple', 'lemon', 'peach']\n",
        "['apple', 'lemon', 'peach', 'plum']\n",
        "['apple']\n",
        "['lemon', 'peach', 'plum']"
      ],
      "metadata": {
        "id": "APVF8ucsEE36"
      }
    },
    {
      "cell_type": "code",
      "execution_count": 1,
      "metadata": {
        "colab": {
          "base_uri": "https://localhost:8080/"
        },
        "id": "S5H8rlLDD_p3",
        "outputId": "792c33a0-9d06-4820-dfab-7ac713b9096a"
      },
      "outputs": [
        {
          "output_type": "stream",
          "name": "stdout",
          "text": [
            "apple\n",
            "peach\n",
            "lemon\n",
            "apple\n",
            "pear\n",
            "plum\n",
            "['apple', 'lemon', 'peach']\n",
            "['apple', 'lemon', 'peach', 'plum']\n",
            "['apple']\n",
            "['lemon', 'peach', 'plum']\n"
          ]
        }
      ],
      "source": [
        "myFruit1 = input()\n",
        "myFruit2 = input()\n",
        "myFruit3 = input()\n",
        "\n",
        "yourFruit1 = input()\n",
        "yourFruit2 = input()\n",
        "\n",
        "theirFruit = input()\n",
        "\n",
        "# Define a set, fruits, containing myFruit1, myFruit2, and myFruit3\n",
        "fruits = set()\n",
        "fruits.add(myFruit1)\n",
        "fruits.add(myFruit2)\n",
        "fruits.add(myFruit3)\n",
        "print(sorted(fruits))\n",
        "\n",
        "# Add theirFruit to fruits\n",
        "fruits.add(theirFruit)\n",
        "print(sorted(fruits))\n",
        "\n",
        "# Find the intersection of fruits and yourFruit1 and yourFruit2\n",
        "fruitsInter = fruits.intersection(set([yourFruit1, yourFruit2]))\n",
        "print(sorted(fruitsInter))\n",
        "\n",
        "# Remove myFruit1 from fruits\n",
        "fruits.remove(myFruit1)\n",
        "print(sorted(fruits))"
      ]
    }
  ]
}