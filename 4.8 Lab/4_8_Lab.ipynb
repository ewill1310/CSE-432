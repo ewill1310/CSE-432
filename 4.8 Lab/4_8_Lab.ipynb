{
  "nbformat": 4,
  "nbformat_minor": 0,
  "metadata": {
    "colab": {
      "provenance": []
    },
    "kernelspec": {
      "name": "python3",
      "display_name": "Python 3"
    },
    "language_info": {
      "name": "python"
    }
  },
  "cells": [
    {
      "cell_type": "markdown",
      "source": [
        "**4.8 LAB:** Structuring data using scale() and MinMaxScaler()\n",
        "The hmeq_small dataset contains information on 5960 home equity loans, including 7 features on the characteristics of the loan.\n",
        "\n",
        "Load the hmeq_small.csv data set as a data frame.\n",
        "Standardize the data set as a new data frame.\n",
        "Normalize the data set as a new data frame.\n",
        "Print the means and standard deviations of both the standardized and normalized data.\n",
        "Ex: Using the first 100 rows, found in hmeq_sample.csv, the output is:\n",
        "\n",
        "The means of hmeqStand are\n",
        "* LOAN      -4.984675e-17\n",
        "* MORTDUE    1.914178e-17\n",
        "* VALUE     -1.790682e-18\n",
        "* YOJ       -7.235161e-17\n",
        "* CLAGE     -4.194176e-17\n",
        "* CLNO      -6.033821e-17\n",
        "* DEBTINC    6.125368e-17\n",
        "* dtype: float64\n",
        "\n",
        "The standard deviations of hmeqStand are  \n",
        "* LOAN       1.005141\n",
        "* MORTDUE    1.005797\n",
        "* VALUE      1.005420\n",
        "* YOJ        1.005666\n",
        "* CLAGE      1.005602\n",
        "* CLNO       1.005479\n",
        "* DEBTINC    1.017700\n",
        "* dtype: float64\n",
        "\n",
        "The means of hmeqNorm are  \n",
        "* LOAN       0.671006\n",
        "* MORTDUE    0.358735\n",
        "* VALUE      0.299044\n",
        "* YOJ        0.292135\n",
        "* CLAGE      0.448986\n",
        "* CLNO       0.346377\n",
        "* DEBTINC    0.624927\n",
        "* dtype: float64\n",
        "\n",
        "The standard deviations of hmeqNorm are  \n",
        "* LOAN       0.269531\n",
        "* MORTDUE    0.247183\n",
        "* VALUE      0.187587\n",
        "* YOJ        0.237945\n",
        "* CLAGE      0.226345\n",
        "* CLNO       0.188681\n",
        "* DEBTINC    0.222946\n",
        "* dtype: float64\n",
        "\n",
        "Will not run externally, no access to required .csv"
      ],
      "metadata": {
        "id": "5JRIrwXCHIqb"
      }
    },
    {
      "cell_type": "code",
      "execution_count": null,
      "metadata": {
        "id": "X6oTgGsZHGF2"
      },
      "outputs": [],
      "source": [
        "import pandas as pd\n",
        "from sklearn import preprocessing\n",
        "\n",
        "hmeq = pd.read_csv('hmeq_small.csv')\n",
        "\n",
        "# Standardize the data\n",
        "standardized = preprocessing.scale(hmeq)\n",
        "\n",
        "# Output the standardized data as a data frame\n",
        "hmeqStand = pd.DataFrame(standardized, columns=hmeq.columns)\n",
        "\n",
        "# Normalize the data\n",
        "min_max_scaler = preprocessing.MinMaxScaler()\n",
        "normalized = min_max_scaler.fit_transform(hmeq)\n",
        "\n",
        "# Output the normalized data as a data frame\n",
        "hmeqNorm = pd.DataFrame(normalized, columns=hmeq.columns)\n",
        "\n",
        "# Print the means and standard deviations of hmeqStand and hmeqNorm\n",
        "print(\"The means of hmeqStand are \", hmeqStand.mean())\n",
        "print(\"The standard deviations of hmeqStand are \", hmeqStand.std())\n",
        "print(\"The means of hmeqNorm are \", hmeqNorm.mean())\n",
        "print(\"The standard deviations of hmeqNorm are \", hmeqNorm.std())"
      ]
    }
  ]
}