{
  "nbformat": 4,
  "nbformat_minor": 0,
  "metadata": {
    "colab": {
      "provenance": []
    },
    "kernelspec": {
      "name": "python3",
      "display_name": "Python 3"
    },
    "language_info": {
      "name": "python"
    }
  },
  "cells": [
    {
      "cell_type": "markdown",
      "source": [
        "**2.9 LAB**: List basics\n",
        "Given the user inputs, complete a program that does the following tasks:\n",
        "\n",
        "Define a list, myList, containing the user inputs myFlower1, myFlower2, and myFlower3 in the same order.\n",
        "Define a list, yourList, containing the user inputs yourFlower1 and yourFlower2 in the same order.\n",
        "Define a list, ourList, by concatenating myList and yourList.\n",
        "Append the user input theirFlower to the end of ourList.\n",
        "Replace myFlower2 in ourList with theirFlower.\n",
        "Remove the third element of ourList.\n",
        "Observe the output of each print statement carefully to understand what was done by each task of the program.\n",
        "\n",
        "Ex: If the input is:\n",
        "\n",
        "rose\n",
        "peony\n",
        "lily\n",
        "rose\n",
        "daisy\n",
        "aster\n",
        "the output is:\n",
        "\n",
        "['rose', 'peony', 'lily']\n",
        "['rose', 'daisy']\n",
        "['rose', 'peony', 'lily', 'rose', 'daisy']\n",
        "['rose', 'peony', 'lily', 'rose', 'daisy', 'aster']\n",
        "['rose', 'aster', 'lily', 'rose', 'daisy', 'aster']\n",
        "['rose', 'aster', 'rose', 'daisy', 'aster']"
      ],
      "metadata": {
        "id": "0hY0m25dDHTQ"
      }
    },
    {
      "cell_type": "code",
      "execution_count": 1,
      "metadata": {
        "colab": {
          "base_uri": "https://localhost:8080/"
        },
        "id": "O8v6IZnaDESc",
        "outputId": "8a20c2ed-d4d7-46ab-a174-959f51034c3b"
      },
      "outputs": [
        {
          "output_type": "stream",
          "name": "stdout",
          "text": [
            "rose\n",
            "peony\n",
            "lily\n",
            "rose\n",
            "daisy\n",
            "aster\n",
            "['rose', 'peony', 'lily']\n",
            "['rose', 'daisy']\n",
            "['rose', 'peony', 'lily', 'rose', 'daisy']\n",
            "['rose', 'peony', 'lily', 'rose', 'daisy', 'aster']\n",
            "['rose', 'aster', 'lily', 'rose', 'daisy', 'aster']\n",
            "['rose', 'aster', 'rose', 'daisy', 'aster']\n"
          ]
        }
      ],
      "source": [
        "myFlower1 = input()\n",
        "myFlower2 = input()\n",
        "myFlower3 = input()\n",
        "\n",
        "yourFlower1 = input()\n",
        "yourFlower2 = input()\n",
        "\n",
        "theirFlower = input()\n",
        "\n",
        "# Define myList containing myFlower1, myFlower2, and myFlower3 in that order\n",
        "myList = [myFlower1, myFlower2, myFlower3]\n",
        "print(myList)\n",
        "\n",
        "# Define yourList containing yourFlower1 and yourFlower2 in that order\n",
        "yourList = [yourFlower1, yourFlower2]\n",
        "print(yourList)\n",
        "\n",
        "# Define ourList by concatenating myList and yourList\n",
        "ourList = myList + yourList\n",
        "print(ourList)\n",
        "\n",
        "# Append theirFlower to the end of ourList\n",
        "ourList.append(theirFlower)\n",
        "print(ourList)\n",
        "\n",
        "# Replace myFlower2 in ourList with theirFlower\n",
        "ourList[1] = theirFlower\n",
        "print(ourList)\n",
        "\n",
        "# Remove the third element of ourList\n",
        "ourList.remove(ourList[2])\n",
        "print(ourList)"
      ]
    }
  ]
}